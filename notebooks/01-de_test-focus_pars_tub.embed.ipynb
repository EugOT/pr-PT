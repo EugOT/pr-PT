version https://git-lfs.github.com/spec/v1
oid sha256:da45ae705cf5ab6d71c556667fb67aae67420bb35c7892fb05c08022a3dee9fa
size 212744898
