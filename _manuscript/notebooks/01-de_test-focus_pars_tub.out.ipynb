version https://git-lfs.github.com/spec/v1
oid sha256:4f466861f12a0ce49b2dbabf89455be048075b257bd6922499c3bfedf62664fa
size 45001507
